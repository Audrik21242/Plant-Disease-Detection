{
 "cells": [
  {
   "cell_type": "code",
   "execution_count": 1,
   "id": "b83428d7-00cd-45dd-a074-3b74b437f847",
   "metadata": {},
   "outputs": [],
   "source": [
    "import numpy as np\n",
    "import os\n",
    "import tensorflow as tf\n",
    "from tensorflow import keras"
   ]
  },
  {
   "cell_type": "code",
   "execution_count": 2,
   "id": "bf705da1-2f37-4165-b10e-a15eb3d210f3",
   "metadata": {},
   "outputs": [],
   "source": [
    "BATCH_SIZE = 32\n",
    "IMAGE_SIZE = 256\n",
    "CHANNELS = 3"
   ]
  },
  {
   "cell_type": "code",
   "execution_count": 3,
   "id": "5577ef7e-5b03-49d9-a4c4-874b817d8ebd",
   "metadata": {},
   "outputs": [
    {
     "name": "stdout",
     "output_type": "stream",
     "text": [
      "Found 7860 files belonging to 6 classes.\n"
     ]
    }
   ],
   "source": [
    "dataset = tf.keras.preprocessing.image_dataset_from_directory(\n",
    "    \"Dataset\",\n",
    "    shuffle=True,\n",
    "    image_size=(IMAGE_SIZE, IMAGE_SIZE),\n",
    "    batch_size=BATCH_SIZE\n",
    ")"
   ]
  },
  {
   "cell_type": "code",
   "execution_count": 4,
   "id": "57933c84-1c16-4d22-8494-3a4178140329",
   "metadata": {},
   "outputs": [],
   "source": [
    "class_name = ['Corn_(maize)___Cercospora_leaf_spot Gray_leaf_spot',\n",
    " 'Corn_(maize)___Common_rust_',\n",
    " 'Corn_(maize)___Northern_Leaf_Blight',\n",
    " 'Corn_(maize)___healthy',\n",
    " 'Pepper__bell___Bacterial_spot',\n",
    " 'Pepper__bell___healthy',\n",
    " 'Potato___Early_blight',\n",
    " 'Potato___Late_blight',\n",
    " 'Potato___healthy',\n",
    " 'Tomato_Bacterial_spot',\n",
    " 'Tomato_Early_blight',\n",
    " 'Tomato_Late_blight',\n",
    " 'Tomato_Leaf_Mold',\n",
    " 'Tomato_Septoria_leaf_spot',\n",
    " 'Tomato__Tomato_YellowLeaf__Curl_Virus',\n",
    " 'Tomato__Tomato_mosaic_virus',\n",
    " 'Tomato_healthy']"
   ]
  },
  {
   "cell_type": "code",
   "execution_count": 5,
   "id": "a1a51388-a1d6-4cc0-8baf-ffd3d9d1c9aa",
   "metadata": {},
   "outputs": [],
   "source": [
    "def get_partition(ds, train_split = 0.8, val_split = 0.1, test_split = 0.1, shuffle = True, shuffle_size = 10000):\n",
    "    ds_size = len(ds)\n",
    "    if shuffle:\n",
    "        ds = ds.shuffle(shuffle_size, seed = 12)\n",
    "    \n",
    "    train_size = int(train_split * ds_size)\n",
    "    val_size = int(val_split * ds_size)\n",
    "    \n",
    "    train_ds = ds.take(train_size)\n",
    "    val_ds = ds.skip(train_size).take(val_size)\n",
    "    test_ds = ds.skip(train_size).take(val_size)\n",
    "\n",
    "    return train_ds, val_ds, test_ds"
   ]
  },
  {
   "cell_type": "code",
   "execution_count": 6,
   "id": "49c880bf-30f9-4794-9004-d8ff36365f2b",
   "metadata": {},
   "outputs": [],
   "source": [
    "train_ds, val_ds, test_ds = get_partition(dataset)"
   ]
  },
  {
   "cell_type": "code",
   "execution_count": 7,
   "id": "0d41c7d2-62a8-4825-ad5e-8a7b405943f5",
   "metadata": {},
   "outputs": [],
   "source": [
    "train_ds = train_ds.cache().shuffle(1000).prefetch(buffer_size = tf.data.AUTOTUNE)\n",
    "val_ds = val_ds.cache().shuffle(1000).prefetch(buffer_size = tf.data.AUTOTUNE)\n",
    "test_ds = test_ds.cache().shuffle(1000).prefetch(buffer_size = tf.data.AUTOTUNE)"
   ]
  },
  {
   "cell_type": "code",
   "execution_count": 8,
   "id": "9dc0e4b1-e085-47aa-8e91-c65e2a9e040e",
   "metadata": {},
   "outputs": [],
   "source": [
    "data_scale = keras.Sequential([\n",
    "    keras.layers.experimental.preprocessing.Resizing(IMAGE_SIZE, IMAGE_SIZE),\n",
    "    keras.layers.experimental.preprocessing.Rescaling(1. / 255)\n",
    "])"
   ]
  },
  {
   "cell_type": "code",
   "execution_count": 9,
   "id": "eb8f45cc-9f2f-4fee-9b90-bab944448e8b",
   "metadata": {},
   "outputs": [],
   "source": [
    "data_augment = keras.Sequential([\n",
    "    keras.layers.experimental.preprocessing.RandomFlip(\"horizontal_and_vertical\"),\n",
    "    keras.layers.experimental.preprocessing.RandomRotation(0.2)\n",
    "])"
   ]
  },
  {
   "cell_type": "code",
   "execution_count": 10,
   "id": "08888c8c-0b4c-4710-8676-e41113b1eaec",
   "metadata": {},
   "outputs": [
    {
     "name": "stdout",
     "output_type": "stream",
     "text": [
      "WARNING:tensorflow:Using a while_loop for converting RngReadAndSkip cause there is no registered converter for this op.\n",
      "WARNING:tensorflow:Using a while_loop for converting Bitcast cause there is no registered converter for this op.\n",
      "WARNING:tensorflow:Using a while_loop for converting Bitcast cause there is no registered converter for this op.\n",
      "WARNING:tensorflow:Using a while_loop for converting StatelessRandomUniformV2 cause there is no registered converter for this op.\n",
      "WARNING:tensorflow:Using a while_loop for converting ImageProjectiveTransformV3 cause there is no registered converter for this op.\n",
      "WARNING:tensorflow:Using a while_loop for converting RngReadAndSkip cause there is no registered converter for this op.\n",
      "WARNING:tensorflow:Using a while_loop for converting Bitcast cause there is no registered converter for this op.\n",
      "WARNING:tensorflow:Using a while_loop for converting Bitcast cause there is no registered converter for this op.\n",
      "WARNING:tensorflow:Using a while_loop for converting StatelessRandomUniformV2 cause there is no registered converter for this op.\n",
      "WARNING:tensorflow:Using a while_loop for converting ImageProjectiveTransformV3 cause there is no registered converter for this op.\n"
     ]
    }
   ],
   "source": [
    "train_ds = train_ds.map(\n",
    "    lambda x, y: (data_augment(x, training=True), y)\n",
    ").prefetch(buffer_size=tf.data.AUTOTUNE)"
   ]
  },
  {
   "cell_type": "code",
   "execution_count": 11,
   "id": "98d33a3f-e9e4-4fa5-b73b-7910750b52f4",
   "metadata": {},
   "outputs": [
    {
     "name": "stdout",
     "output_type": "stream",
     "text": [
      "Loaded model from version 3\n"
     ]
    }
   ],
   "source": [
    "import os\n",
    "import tensorflow as tf\n",
    "\n",
    "# Path to the directory where models are saved\n",
    "model_dir = \"../plant_models\"\n",
    "\n",
    "# List of model versions (folders or files) in the directory\n",
    "model_versions = [i for i in os.listdir(model_dir) if i.isdigit()]\n",
    "\n",
    "# Get the latest model version\n",
    "if model_versions:\n",
    "    latest_version = max([int(i) for i in model_versions])\n",
    "    model_path = os.path.join(model_dir, str(latest_version))\n",
    "else:\n",
    "    raise ValueError(\"No models found in the directory.\")\n",
    "\n",
    "# Load the model\n",
    "model = tf.keras.models.load_model(f\"../plant_models/{latest_version}\")\n",
    "\n",
    "print(f\"Loaded model from version {latest_version}\")"
   ]
  },
  {
   "cell_type": "code",
   "execution_count": null,
   "id": "e42c1fb8-709f-491a-9407-424f832d8150",
   "metadata": {},
   "outputs": [
    {
     "name": "stdout",
     "output_type": "stream",
     "text": [
      "Epoch 1/70\n",
      "196/196 [==============================] - 58s 253ms/step - loss: 0.1193 - accuracy: 0.9584 - val_loss: 0.1756 - val_accuracy: 0.9479\n",
      "Epoch 2/70\n",
      "196/196 [==============================] - 40s 204ms/step - loss: 0.0883 - accuracy: 0.9681 - val_loss: 0.0813 - val_accuracy: 0.9753\n",
      "Epoch 3/70\n",
      "196/196 [==============================] - 41s 209ms/step - loss: 0.0904 - accuracy: 0.9678 - val_loss: 0.0818 - val_accuracy: 0.9766\n",
      "Epoch 4/70\n",
      "196/196 [==============================] - 45s 228ms/step - loss: 0.0711 - accuracy: 0.9732 - val_loss: 0.0668 - val_accuracy: 0.9779\n",
      "Epoch 5/70\n",
      "196/196 [==============================] - 46s 237ms/step - loss: 0.0503 - accuracy: 0.9833 - val_loss: 0.0582 - val_accuracy: 0.9740\n",
      "Epoch 6/70\n",
      "196/196 [==============================] - 47s 239ms/step - loss: 0.0541 - accuracy: 0.9825 - val_loss: 0.0893 - val_accuracy: 0.9648\n",
      "Epoch 7/70\n",
      "196/196 [==============================] - 47s 239ms/step - loss: 0.0539 - accuracy: 0.9820 - val_loss: 0.0410 - val_accuracy: 0.9870\n",
      "Epoch 8/70\n",
      "196/196 [==============================] - 47s 241ms/step - loss: 0.0454 - accuracy: 0.9864 - val_loss: 0.0301 - val_accuracy: 0.9909\n",
      "Epoch 9/70\n",
      "196/196 [==============================] - 47s 242ms/step - loss: 0.0520 - accuracy: 0.9834 - val_loss: 0.0517 - val_accuracy: 0.9857\n",
      "Epoch 10/70\n",
      "196/196 [==============================] - 50s 256ms/step - loss: 0.0507 - accuracy: 0.9826 - val_loss: 0.0233 - val_accuracy: 0.9948\n",
      "Epoch 11/70\n",
      "196/196 [==============================] - 56s 285ms/step - loss: 0.0613 - accuracy: 0.9807 - val_loss: 0.0432 - val_accuracy: 0.9857\n",
      "Epoch 12/70\n",
      "196/196 [==============================] - 66s 337ms/step - loss: 0.0602 - accuracy: 0.9790 - val_loss: 0.0562 - val_accuracy: 0.9753\n",
      "Epoch 13/70\n",
      "196/196 [==============================] - 60s 305ms/step - loss: 0.0358 - accuracy: 0.9893 - val_loss: 0.0322 - val_accuracy: 0.9922\n",
      "Epoch 14/70\n",
      "196/196 [==============================] - 64s 328ms/step - loss: 0.0452 - accuracy: 0.9836 - val_loss: 0.0230 - val_accuracy: 0.9922\n",
      "Epoch 15/70\n",
      "196/196 [==============================] - 68s 347ms/step - loss: 0.0289 - accuracy: 0.9895 - val_loss: 0.1216 - val_accuracy: 0.9622\n",
      "Epoch 16/70\n",
      "196/196 [==============================] - 72s 369ms/step - loss: 0.0377 - accuracy: 0.9888 - val_loss: 0.0183 - val_accuracy: 0.9948\n",
      "Epoch 17/70\n",
      "196/196 [==============================] - 74s 377ms/step - loss: 0.0314 - accuracy: 0.9892 - val_loss: 0.0368 - val_accuracy: 0.9844\n",
      "Epoch 18/70\n",
      "196/196 [==============================] - 76s 388ms/step - loss: 0.0328 - accuracy: 0.9874 - val_loss: 0.0173 - val_accuracy: 0.9909\n",
      "Epoch 19/70\n",
      "196/196 [==============================] - 77s 394ms/step - loss: 0.0227 - accuracy: 0.9922 - val_loss: 0.0558 - val_accuracy: 0.9779\n",
      "Epoch 20/70\n",
      "196/196 [==============================] - 72s 367ms/step - loss: 0.0368 - accuracy: 0.9872 - val_loss: 0.0538 - val_accuracy: 0.9844\n",
      "Epoch 21/70\n",
      "196/196 [==============================] - 65s 334ms/step - loss: 0.0457 - accuracy: 0.9850 - val_loss: 0.0271 - val_accuracy: 0.9909\n",
      "Epoch 22/70\n",
      "196/196 [==============================] - 61s 312ms/step - loss: 0.0355 - accuracy: 0.9876 - val_loss: 0.0372 - val_accuracy: 0.9870\n",
      "Epoch 23/70\n",
      "196/196 [==============================] - 62s 319ms/step - loss: 0.0242 - accuracy: 0.9925 - val_loss: 0.0603 - val_accuracy: 0.9870\n",
      "Epoch 24/70\n",
      "196/196 [==============================] - 60s 309ms/step - loss: 0.0154 - accuracy: 0.9954 - val_loss: 0.0489 - val_accuracy: 0.9870\n",
      "Epoch 25/70\n",
      "196/196 [==============================] - 62s 315ms/step - loss: 0.0335 - accuracy: 0.9888 - val_loss: 0.0581 - val_accuracy: 0.9857\n",
      "Epoch 26/70\n",
      "196/196 [==============================] - 61s 313ms/step - loss: 0.0236 - accuracy: 0.9912 - val_loss: 0.0522 - val_accuracy: 0.9857\n",
      "Epoch 27/70\n",
      "196/196 [==============================] - 60s 306ms/step - loss: 0.0328 - accuracy: 0.9882 - val_loss: 0.0372 - val_accuracy: 0.9831\n",
      "Epoch 28/70\n",
      "196/196 [==============================] - 61s 311ms/step - loss: 0.0252 - accuracy: 0.9917 - val_loss: 0.0486 - val_accuracy: 0.9831\n",
      "Epoch 29/70\n",
      "196/196 [==============================] - 62s 315ms/step - loss: 0.0302 - accuracy: 0.9896 - val_loss: 0.0652 - val_accuracy: 0.9805\n",
      "Epoch 30/70\n",
      "196/196 [==============================] - 61s 313ms/step - loss: 0.0166 - accuracy: 0.9936 - val_loss: 0.0219 - val_accuracy: 0.9922\n",
      "Epoch 31/70\n",
      "196/196 [==============================] - 63s 321ms/step - loss: 0.0276 - accuracy: 0.9906 - val_loss: 0.0313 - val_accuracy: 0.9883\n",
      "Epoch 32/70\n",
      "196/196 [==============================] - 63s 321ms/step - loss: 0.0246 - accuracy: 0.9919 - val_loss: 0.0320 - val_accuracy: 0.9883\n",
      "Epoch 33/70\n",
      "196/196 [==============================] - 65s 331ms/step - loss: 0.0179 - accuracy: 0.9947 - val_loss: 0.0152 - val_accuracy: 0.9948\n",
      "Epoch 34/70\n",
      "196/196 [==============================] - 63s 324ms/step - loss: 0.0155 - accuracy: 0.9954 - val_loss: 0.0437 - val_accuracy: 0.9883\n",
      "Epoch 35/70\n",
      "196/196 [==============================] - 61s 314ms/step - loss: 0.0340 - accuracy: 0.9898 - val_loss: 0.0306 - val_accuracy: 0.9857\n",
      "Epoch 36/70\n",
      "196/196 [==============================] - 64s 325ms/step - loss: 0.0268 - accuracy: 0.9912 - val_loss: 0.0601 - val_accuracy: 0.9870\n",
      "Epoch 37/70\n",
      "196/196 [==============================] - 63s 322ms/step - loss: 0.0133 - accuracy: 0.9959 - val_loss: 0.0152 - val_accuracy: 0.9948\n",
      "Epoch 38/70\n",
      "196/196 [==============================] - 64s 326ms/step - loss: 0.0309 - accuracy: 0.9901 - val_loss: 0.0894 - val_accuracy: 0.9753\n",
      "Epoch 39/70\n",
      "196/196 [==============================] - 64s 327ms/step - loss: 0.0203 - accuracy: 0.9923 - val_loss: 0.0042 - val_accuracy: 1.0000\n",
      "Epoch 40/70\n",
      "196/196 [==============================] - 65s 334ms/step - loss: 0.0152 - accuracy: 0.9952 - val_loss: 0.0040 - val_accuracy: 1.0000\n",
      "Epoch 41/70\n",
      "196/196 [==============================] - 65s 333ms/step - loss: 0.0407 - accuracy: 0.9879 - val_loss: 0.0271 - val_accuracy: 0.9922\n",
      "Epoch 42/70\n",
      "196/196 [==============================] - 64s 326ms/step - loss: 0.0111 - accuracy: 0.9960 - val_loss: 0.0186 - val_accuracy: 0.9935\n",
      "Epoch 43/70\n",
      "196/196 [==============================] - 64s 329ms/step - loss: 0.0144 - accuracy: 0.9949 - val_loss: 0.0125 - val_accuracy: 0.9961\n",
      "Epoch 44/70\n",
      "196/196 [==============================] - 72s 367ms/step - loss: 0.0154 - accuracy: 0.9949 - val_loss: 0.0443 - val_accuracy: 0.9857\n",
      "Epoch 45/70\n",
      "196/196 [==============================] - 71s 361ms/step - loss: 0.0082 - accuracy: 0.9974 - val_loss: 0.0174 - val_accuracy: 0.9922\n",
      "Epoch 46/70\n",
      "196/196 [==============================] - 74s 377ms/step - loss: 0.0056 - accuracy: 0.9984 - val_loss: 0.0578 - val_accuracy: 0.9857\n",
      "Epoch 47/70\n",
      "196/196 [==============================] - 66s 338ms/step - loss: 0.0422 - accuracy: 0.9879 - val_loss: 0.0113 - val_accuracy: 0.9948\n",
      "Epoch 48/70\n",
      "196/196 [==============================] - 67s 342ms/step - loss: 0.0226 - accuracy: 0.9930 - val_loss: 0.0094 - val_accuracy: 0.9961\n",
      "Epoch 49/70\n",
      "196/196 [==============================] - 65s 331ms/step - loss: 0.0205 - accuracy: 0.9941 - val_loss: 0.0729 - val_accuracy: 0.9805\n",
      "Epoch 50/70\n",
      "196/196 [==============================] - 65s 329ms/step - loss: 0.0216 - accuracy: 0.9931 - val_loss: 0.0056 - val_accuracy: 0.9974\n",
      "Epoch 51/70\n",
      "196/196 [==============================] - 67s 340ms/step - loss: 0.0059 - accuracy: 0.9978 - val_loss: 0.0059 - val_accuracy: 0.9961\n",
      "Epoch 52/70\n",
      "196/196 [==============================] - 67s 343ms/step - loss: 0.0232 - accuracy: 0.9922 - val_loss: 0.0230 - val_accuracy: 0.9948\n",
      "Epoch 53/70\n",
      "196/196 [==============================] - 124s 633ms/step - loss: 0.0256 - accuracy: 0.9911 - val_loss: 0.0239 - val_accuracy: 0.9935\n",
      "Epoch 54/70\n",
      "196/196 [==============================] - 92s 473ms/step - loss: 0.0297 - accuracy: 0.9915 - val_loss: 0.0104 - val_accuracy: 0.9961\n",
      "Epoch 55/70\n",
      "196/196 [==============================] - 182s 932ms/step - loss: 0.0118 - accuracy: 0.9962 - val_loss: 0.0123 - val_accuracy: 0.9935\n",
      "Epoch 56/70\n",
      "196/196 [==============================] - 172s 875ms/step - loss: 0.0029 - accuracy: 0.9994 - val_loss: 0.0536 - val_accuracy: 0.9818\n",
      "Epoch 57/70\n",
      "196/196 [==============================] - 152s 778ms/step - loss: 0.0190 - accuracy: 0.9947 - val_loss: 0.0268 - val_accuracy: 0.9974\n",
      "Epoch 58/70\n",
      "196/196 [==============================] - 200s 1s/step - loss: 0.0135 - accuracy: 0.9960 - val_loss: 0.0127 - val_accuracy: 0.9948\n",
      "Epoch 59/70\n",
      "196/196 [==============================] - 204s 1s/step - loss: 0.0154 - accuracy: 0.9943 - val_loss: 0.0914 - val_accuracy: 0.9805\n",
      "Epoch 60/70\n",
      "196/196 [==============================] - 187s 954ms/step - loss: 0.0097 - accuracy: 0.9970 - val_loss: 0.0315 - val_accuracy: 0.9883\n",
      "Epoch 61/70\n",
      "196/196 [==============================] - 180s 920ms/step - loss: 0.0246 - accuracy: 0.9938 - val_loss: 0.0603 - val_accuracy: 0.9818\n",
      "Epoch 62/70\n",
      "196/196 [==============================] - 171s 874ms/step - loss: 0.0365 - accuracy: 0.9885 - val_loss: 0.0124 - val_accuracy: 0.9935\n",
      "Epoch 63/70\n",
      "196/196 [==============================] - 153s 781ms/step - loss: 0.0189 - accuracy: 0.9941 - val_loss: 0.0029 - val_accuracy: 1.0000\n",
      "Epoch 64/70\n",
      "196/196 [==============================] - 145s 739ms/step - loss: 0.0102 - accuracy: 0.9968 - val_loss: 0.0123 - val_accuracy: 0.9948\n",
      "Epoch 65/70\n",
      "196/196 [==============================] - 147s 747ms/step - loss: 0.0161 - accuracy: 0.9944 - val_loss: 0.0164 - val_accuracy: 0.9935\n",
      "Epoch 66/70\n",
      "196/196 [==============================] - 152s 779ms/step - loss: 0.0171 - accuracy: 0.9946 - val_loss: 0.0058 - val_accuracy: 0.9987\n",
      "Epoch 67/70\n",
      "196/196 [==============================] - 158s 811ms/step - loss: 0.0060 - accuracy: 0.9981 - val_loss: 0.0047 - val_accuracy: 0.9987\n",
      "Epoch 68/70\n",
      "196/196 [==============================] - 204s 1s/step - loss: 0.0027 - accuracy: 0.9990 - val_loss: 0.0096 - val_accuracy: 0.9987\n",
      "Epoch 69/70\n",
      "196/196 [==============================] - 201s 1s/step - loss: 0.0016 - accuracy: 0.9997 - val_loss: 0.0099 - val_accuracy: 0.9987\n",
      "Epoch 70/70\n",
      "101/196 [==============>...............] - ETA: 1:12 - loss: 0.0761 - accuracy: 0.9805"
     ]
    }
   ],
   "source": [
    "history = model.fit(train_ds, epochs = 70, batch_size = 32, verbose = 1, validation_data = val_ds)"
   ]
  },
  {
   "cell_type": "code",
   "execution_count": null,
   "id": "233b7dd5-ac94-484f-bd17-5064681f96f6",
   "metadata": {},
   "outputs": [],
   "source": [
    "import os\n",
    "\n",
    "if not os.path.exists(\"../plant_models\"):\n",
    "    os.makedirs(\"../plant_models\")\n",
    "\n",
    "model_versions = [i for i in os.listdir(\"../plant_models\") if i.isdigit()]\n",
    "\n",
    "model_version = max([int(i) for i in model_versions] + [0]) + 1\n",
    "\n",
    "model.save(f\"../plant_models/{model_version}\")"
   ]
  },
  {
   "cell_type": "code",
   "execution_count": null,
   "id": "c17dffe7-32ed-43b3-8c24-94c986cae663",
   "metadata": {},
   "outputs": [],
   "source": []
  }
 ],
 "metadata": {
  "kernelspec": {
   "display_name": "Python 3 (ipykernel)",
   "language": "python",
   "name": "python3"
  },
  "language_info": {
   "codemirror_mode": {
    "name": "ipython",
    "version": 3
   },
   "file_extension": ".py",
   "mimetype": "text/x-python",
   "name": "python",
   "nbconvert_exporter": "python",
   "pygments_lexer": "ipython3",
   "version": "3.9.18"
  }
 },
 "nbformat": 4,
 "nbformat_minor": 5
}
